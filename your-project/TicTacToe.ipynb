{
 "cells": [
  {
   "cell_type": "code",
   "execution_count": null,
   "metadata": {},
   "outputs": [],
   "source": [
    "# Steps to create:\n",
    "# Draw the board (3x3 grid)\n",
    "# Score of player and CPU  = 0\n",
    "# * Optional: create the option for the user to choose X or O\n",
    "# Create a function that allows the first player (X or O) to start the game\n",
    "# Create a function that allows the second player to play (randomly)\n",
    "# Keep iterating between the first and second player until\n",
    "## one of the players has drawn a row of three symbols \n",
    "## OR until no one can win\n",
    "# Anounce a winner\n",
    "\n",
    "# To add:\n",
    "# Make input not case sensitive with x.lower()"
   ]
  },
  {
   "cell_type": "code",
   "execution_count": null,
   "metadata": {},
   "outputs": [],
   "source": [
    "# Create a board\n",
    "print(\"_|_|_\")\n",
    "print(\"_|_|_\")\n",
    "print(\" | | \")"
   ]
  },
  {
   "cell_type": "code",
   "execution_count": 5,
   "metadata": {},
   "outputs": [],
   "source": [
    "# Score\n",
    "cpu_score = 0\n",
    "player_score = 0"
   ]
  },
  {
   "cell_type": "code",
   "execution_count": 43,
   "metadata": {},
   "outputs": [],
   "source": [
    "allowed_choice = [\"X\",\"O\"]\n",
    "cpu_choice = \"\"\n",
    "\n",
    "def Choice():\n",
    "    player_choice = input(\"Do you want to play X or O?: \")\n",
    "    if player_choice is \"X\":\n",
    "        cpu_choice == \"O\"\n",
    "    elif player_choice is \"O\":\n",
    "        cpu_choice == \"X\"\n",
    "\n",
    "    else:\n",
    "        print(\"Sorry, your response is not allowed. Please try again\")"
   ]
  },
  {
   "cell_type": "code",
   "execution_count": 44,
   "metadata": {},
   "outputs": [
    {
     "name": "stdout",
     "output_type": "stream",
     "text": [
      "Do you want to play X or O?: X\n"
     ]
    }
   ],
   "source": [
    "Choice()"
   ]
  },
  {
   "cell_type": "code",
   "execution_count": null,
   "metadata": {},
   "outputs": [],
   "source": []
  }
 ],
 "metadata": {
  "kernelspec": {
   "display_name": "Python 3",
   "language": "python",
   "name": "python3"
  },
  "language_info": {
   "codemirror_mode": {
    "name": "ipython",
    "version": 3
   },
   "file_extension": ".py",
   "mimetype": "text/x-python",
   "name": "python",
   "nbconvert_exporter": "python",
   "pygments_lexer": "ipython3",
   "version": "3.7.6"
  }
 },
 "nbformat": 4,
 "nbformat_minor": 4
}
