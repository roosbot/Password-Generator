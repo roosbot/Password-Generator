{
 "cells": [
  {
   "cell_type": "code",
   "execution_count": null,
   "metadata": {},
   "outputs": [],
   "source": [
    "# def randomPassword(stringLength=12):\n",
    "#     password_characters = string.ascii_letters + string.digits + string.punctuation\n",
    "#     return ''.join(random.choice(password_characters) for i in range(stringLength))"
   ]
  },
  {
   "cell_type": "code",
   "execution_count": null,
   "metadata": {},
   "outputs": [],
   "source": [
    "# def randomPassword(stringLength):\n",
    "#     secureStr = ''.join((secrets.choice(string.ascii_letters) for i in range(stringLength)))\n",
    "#     return print(\"Your random password is: \", secureStr)"
   ]
  },
  {
   "cell_type": "code",
   "execution_count": null,
   "metadata": {},
   "outputs": [],
   "source": [
    "# 8 and 12 characters\n",
    "# at least one uppercase letter\n",
    "# one lowercase letter\n",
    "# one digit\n",
    "# one special character"
   ]
  },
  {
   "cell_type": "code",
   "execution_count": null,
   "metadata": {},
   "outputs": [],
   "source": [
    "import random\n",
    "import string\n",
    "# import secrets # generate a secure random string (not replicatable)"
   ]
  },
  {
   "cell_type": "code",
   "execution_count": null,
   "metadata": {},
   "outputs": [],
   "source": [
    "def Start():\n",
    "    \n",
    "    answer = input(\"Do you want to generate a password? Enter yes or no. \").lower()\n",
    "    if answer == \"yes\":\n",
    "        print(\"Let's generate a password for you!\")\n",
    "        randomPassword()\n",
    "    elif answer == \"no\":\n",
    "        print(\"Alright, no password for you\")\n",
    "    else: \n",
    "        print(\"Sorry, I don't understand. Please enter yes or no.\")\n",
    "        Start()"
   ]
  },
  {
   "cell_type": "code",
   "execution_count": null,
   "metadata": {},
   "outputs": [],
   "source": [
    "def randomPassword():\n",
    "    randomSource = string.ascii_letters + string.digits + string.punctuation\n",
    "    password = random.choice(string.ascii_uppercase) # uppercase letter\n",
    "    password += random.choice(string.ascii_lowercase) # lowercase letter\n",
    "    password += random.choice(string.digits) # digit\n",
    "    password += random.choice(string.punctuation) # special character\n",
    "\n",
    "    for i in range(12):\n",
    "        password += random.choice(randomSource)\n",
    "    \n",
    "#     passwordList = list(password)\n",
    "#     random.SystemRandom().shuffle(passwordList)\n",
    "#     password = ''.join(passwordList)\n",
    "    return print(\"Your random password is:\", password)\n",
    "\n"
   ]
  },
  {
   "cell_type": "code",
   "execution_count": null,
   "metadata": {},
   "outputs": [],
   "source": [
    "def reStart():\n",
    "    \n",
    "    answer = input(\"Do you want to generate another password? Enter yes or no. \").lower()\n",
    "    if answer == \"yes\":\n",
    "        print(\"Let's generate a password for you!\")\n",
    "        randomPassword()\n",
    "    elif answer == \"no\":\n",
    "        print(\"Alright, thank you and goodbye!\")\n",
    "    else: \n",
    "        print(\"Sorry, I don't understand. Please enter yes or no.\")\n",
    "        reStart()"
   ]
  },
  {
   "cell_type": "code",
   "execution_count": null,
   "metadata": {},
   "outputs": [],
   "source": [
    "Start()\n",
    "reStart()"
   ]
  }
 ],
 "metadata": {
  "kernelspec": {
   "display_name": "Python 3",
   "language": "python",
   "name": "python3"
  },
  "language_info": {
   "codemirror_mode": {
    "name": "ipython",
    "version": 3
   },
   "file_extension": ".py",
   "mimetype": "text/x-python",
   "name": "python",
   "nbconvert_exporter": "python",
   "pygments_lexer": "ipython3",
   "version": "3.7.6"
  }
 },
 "nbformat": 4,
 "nbformat_minor": 4
}
