{
 "cells": [
  {
   "cell_type": "code",
   "execution_count": null,
   "metadata": {},
   "outputs": [],
   "source": [
    "# Steps to create:\n",
    "# Draw the grid (3x3 grid)\n",
    "# Score of player and CPU  = 0\n",
    "# * Optional: create the option for the user to choose X or O\n",
    "# Create a function that allows the first player (X) to start the game\n",
    "# Create a function that allows the second player to play (randomly)\n",
    "# Keep iterating between the first and second player until\n",
    "## one of the players has drawn a row of three symbols \n",
    "## OR until no one can win\n",
    "# Anounce a winner"
   ]
  },
  {
   "cell_type": "code",
   "execution_count": null,
   "metadata": {},
   "outputs": [],
   "source": [
    "# Initialize the grid (3x3 grid)\n",
    "grid = {\"1\":\"_\",\"2\":\"_\",\"3\":\" _\",\n",
    "        \"4\":\"_\",\"5\":\"_\",\"6\":\" _\",\n",
    "        \"7\":\" \",\"8\":\" \",\"9\":\"  \"}\n",
    "possibilities = []\n",
    "\n",
    "for choice in grid:\n",
    "    possibilities.append(choice)\n",
    "    \n",
    "print(possibilities)"
   ]
  },
  {
   "cell_type": "code",
   "execution_count": null,
   "metadata": {},
   "outputs": [],
   "source": [
    "# Draw the grid\n",
    "def drawGrid(x):\n",
    "    print(x[\"1\"],\"|\", x[\"2\"], \"|\" + x[\"3\"])\n",
    "    print(x[\"4\"],\"|\", x[\"5\"], \"|\" + x[\"6\"])\n",
    "    print(x[\"7\"],\"|\", x[\"8\"], \"|\" + x[\"9\"])\n",
    "drawGrid(grid)"
   ]
  },
  {
   "cell_type": "code",
   "execution_count": null,
   "metadata": {},
   "outputs": [],
   "source": [
    "# Grid instructions\n",
    "\n",
    "grid_1 = {\"1\":\"1\",\"2\":\"2\",\"3\":\"3\",\n",
    "          \"4\":\"4\",\"5\":\"5\",\"6\":\"6\",\n",
    "          \"7\":\"7\",\"8\":\"8\",\"9\":\"9\"}\n",
    "\n",
    "possibilities_1 = []\n",
    "\n",
    "for choice in grid_1:\n",
    "    possibilities_1.append(choice)\n",
    "\n",
    "def instructions(x):\n",
    "    print(\"Make a move by entering one of the numbers that represent a place on the grid. See the example grid below:\")\n",
    "\n",
    "    print(x[\"1\"],\"|\", x[\"2\"], \"| \" + x[\"3\"])\n",
    "    print(x[\"4\"],\"|\", x[\"5\"], \"| \" + x[\"6\"])\n",
    "    print(x[\"7\"],\"|\", x[\"8\"], \"| \" + x[\"9\"])\n",
    "instructions(grid_1)"
   ]
  },
  {
   "cell_type": "code",
   "execution_count": null,
   "metadata": {},
   "outputs": [],
   "source": [
    "# Score\n",
    "cpu_score = 0\n",
    "player_score = 0"
   ]
  },
  {
   "cell_type": "code",
   "execution_count": null,
   "metadata": {},
   "outputs": [],
   "source": [
    "# # Ask the user to choose X or O\n",
    "# allowed_choice = [\"X\",\"O\"]\n",
    "# cpu_choice = \"\"\n",
    "\n",
    "# def Choice():\n",
    "#     player_choice = input(\"Do you want to play X or O?: \").lower()\n",
    "#     if player_choice is \"X\":\n",
    "#         cpu_choice == \"O\"\n",
    "#     elif player_choice is \"O\":\n",
    "#         cpu_choice == \"X\"\n",
    "#     else:\n",
    "#         print(\"Sorry, your response is not allowed. Please try again\")"
   ]
  },
  {
   "cell_type": "code",
   "execution_count": null,
   "metadata": {},
   "outputs": [],
   "source": [
    "def Play():\n",
    "\n",
    "    player = \"X\"\n",
    "    count = 1\n",
    "\n",
    "    drawGrid(grid)\n",
    "    \n",
    "    # Ask to make a move    \n",
    "    print(\"Round:\", count,\"\\nIt's your turn,\", player,\"\\nChoose a number to make a move\")\n",
    "    move = input()\n",
    "    \n",
    "    if move not in possibilities:\n",
    "        print(\"That spot is not available. Please choose another one.\")\n",
    "        move = input()\n",
    "        \n",
    "    elif move in possibilities:\n",
    "        if grid[move] != \"_\":\n",
    "            print(\"Something went wrong.\")\n",
    "        else: \n",
    "            grid[move] == \"_\"\n",
    "            grid[move] = player\n",
    "            count += 1\n",
    "    \n",
    "    else: \n",
    "        print(\"Something went wrong. Please try again\")\n",
    "        Play()\n",
    "\n",
    "    if player == \"X\":\n",
    "        player = \"O\"\n",
    "    else:\n",
    "        player = \"X\"\n",
    "        Play()"
   ]
  },
  {
   "cell_type": "code",
   "execution_count": null,
   "metadata": {
    "scrolled": true
   },
   "outputs": [],
   "source": [
    "print(\"Let's play Tic Tac Toe!\\n\")\n",
    "instructions(grid_1)\n",
    "print(\"\\nReady? Set, Go!\")\n",
    "\n",
    "Play()"
   ]
  },
  {
   "cell_type": "code",
   "execution_count": null,
   "metadata": {},
   "outputs": [],
   "source": [
    "# points = [(1), (2), (3), (4), (5), (6), (7), (8), (9)]\n",
    "\n",
    "# x = [point for point in points]\n",
    "\n",
    "# arrows_1 = []\n",
    "# arrows_2 = []\n",
    "# arrows_3 = []\n",
    "# arrows_4 = []\n",
    "# arrows_0 = []\n",
    "\n",
    "# hits = len(x)\n",
    "# i = 0\n",
    "\n",
    "# for hit in range(hits):\n",
    "#     if x[i] == 1:\n",
    "#         arrows_1.append(x[i])\n",
    "#     elif x[i] == 2:\n",
    "#         arrows_2.append(x[i])\n",
    "#     elif x[i] < 0 and y[i] > 0:\n",
    "#         arrows_3.append(x[i])\n",
    "#     elif x[i] < 0 and y[i] < 0:\n",
    "#         arrows_4.append(x[i])\n",
    "#     else:\n",
    "#         arrows_0.append(x[i])\n",
    "\n",
    "# print(\"Arrows in 1:\", len(arrows_1))\n",
    "# print(\"Arrows in 2:\", len(arrows_2))\n",
    "# print(\"Arrows in 3:\", len(arrows_3))\n",
    "# print(\"Arrows in 4:\", len(arrows_4))\n",
    "# print(\"There are\", len(arrows_0),\"values that do not belong to any quadrant\")"
   ]
  },
  {
   "cell_type": "code",
   "execution_count": null,
   "metadata": {},
   "outputs": [],
   "source": [
    "#     print(\"          \")\n",
    "#     print(\"___|___|___\")\n",
    "#     print(\"___|___|___\")\n",
    "#     print(\"   |   |   \")"
   ]
  },
  {
   "cell_type": "code",
   "execution_count": null,
   "metadata": {},
   "outputs": [],
   "source": []
  }
 ],
 "metadata": {
  "kernelspec": {
   "display_name": "Python 3",
   "language": "python",
   "name": "python3"
  },
  "language_info": {
   "codemirror_mode": {
    "name": "ipython",
    "version": 3
   },
   "file_extension": ".py",
   "mimetype": "text/x-python",
   "name": "python",
   "nbconvert_exporter": "python",
   "pygments_lexer": "ipython3",
   "version": "3.7.6"
  }
 },
 "nbformat": 4,
 "nbformat_minor": 4
}
